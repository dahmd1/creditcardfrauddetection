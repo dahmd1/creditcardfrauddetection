{
 "cells": [
  {
   "cell_type": "code",
   "execution_count": 1,
   "metadata": {},
   "outputs": [
    {
     "name": "stdout",
     "output_type": "stream",
     "text": [
      "matplotlib: 3.3.2\n",
      "pandas: 1.1.3\n",
      "sklearn: 0.23.2\n"
     ]
    }
   ],
   "source": [
    "import matplotlib\n",
    "print('matplotlib: {}'.format(matplotlib.__version__))\n",
    "# pandas\n",
    "import pandas as pd\n",
    "print('pandas: {}'.format(pd.__version__))\n",
    "# scikit-learn\n",
    "import sklearn as sk\n",
    "print('sklearn: {}'.format(sk.__version__))"
   ]
  },
  {
   "cell_type": "code",
   "execution_count": 2,
   "metadata": {},
   "outputs": [],
   "source": [
    "from pandas import read_csv\n",
    "from pandas.plotting import scatter_matrix\n",
    "import matplotlib.pyplot as plt\n",
    "from sklearn.model_selection import train_test_split\n",
    "from sklearn.model_selection import cross_val_score\n",
    "from sklearn.metrics import classification_report\n",
    "from sklearn.metrics import confusion_matrix\n",
    "from sklearn.metrics import accuracy_score\n",
    "from sklearn.linear_model import LogisticRegression\n",
    "from sklearn.neighbors import KNeighborsClassifier\n",
    "import seaborn as sns"
   ]
  },
  {
   "cell_type": "code",
   "execution_count": 3,
   "metadata": {},
   "outputs": [],
   "source": [
    "df = pd.read_csv(\"creditcardcsvpresent.csv\")"
   ]
  },
  {
   "cell_type": "code",
   "execution_count": 4,
   "metadata": {},
   "outputs": [
    {
     "name": "stdout",
     "output_type": "stream",
     "text": [
      "<class 'pandas.core.frame.DataFrame'>\n",
      "RangeIndex: 3075 entries, 0 to 3074\n",
      "Data columns (total 12 columns):\n",
      " #   Column                          Non-Null Count  Dtype  \n",
      "---  ------                          --------------  -----  \n",
      " 0   Merchant_id                     3075 non-null   int64  \n",
      " 1   Transaction date                0 non-null      float64\n",
      " 2   Average Amount/transaction/day  3075 non-null   float64\n",
      " 3   Transaction_amount              3075 non-null   float64\n",
      " 4   Is declined                     3075 non-null   object \n",
      " 5   Total Number of declines/day    3075 non-null   int64  \n",
      " 6   isForeignTransaction            3075 non-null   object \n",
      " 7   isHighRiskCountry               3075 non-null   object \n",
      " 8   Daily_chargeback_avg_amt        3075 non-null   int64  \n",
      " 9   6_month_avg_chbk_amt            3075 non-null   float64\n",
      " 10  6-month_chbk_freq               3075 non-null   int64  \n",
      " 11  isFradulent                     3075 non-null   object \n",
      "dtypes: float64(4), int64(4), object(4)\n",
      "memory usage: 288.4+ KB\n"
     ]
    }
   ],
   "source": [
    "df.info()"
   ]
  },
  {
   "cell_type": "code",
   "execution_count": 5,
   "metadata": {},
   "outputs": [
    {
     "data": {
      "image/png": "[encoded data removed]",
      "text/plain": [
       "<Figure size 432x288 with 1 Axes>"
      ]
     },
     "metadata": {
      "needs_background": "light"
     },
     "output_type": "display_data"
    }
   ],
   "source": [
    "sns.countplot(x='isFradulent', data=df);"
   ]
  },
  {
   "cell_type": "code",
   "execution_count": 6,
   "metadata": {},
   "outputs": [
    {
     "data": {
      "text/plain": [
       "Merchant_id                          0\n",
       "Transaction date                  3075\n",
       "Average Amount/transaction/day       0\n",
       "Transaction_amount                   0\n",
       "Is declined                          0\n",
       "Total Number of declines/day         0\n",
       "isForeignTransaction                 0\n",
       "isHighRiskCountry                    0\n",
       "Daily_chargeback_avg_amt             0\n",
       "6_month_avg_chbk_amt                 0\n",
       "6-month_chbk_freq                    0\n",
       "isFradulent                          0\n",
       "dtype: int64"
      ]
     },
     "execution_count": 6,
     "metadata": {},
     "output_type": "execute_result"
    }
   ],
   "source": [
    "pd.isnull(df).sum()"
   ]
  },
  {
   "cell_type": "code",
   "execution_count": 7,
   "metadata": {},
   "outputs": [],
   "source": [
    "df['Is declined']=df['Is declined'].replace('N',0)\n",
    "df['Is declined']=df['Is declined'].replace('Y',1)"
   ]
  },
  {
   "cell_type": "code",
   "execution_count": 8,
   "metadata": {},
   "outputs": [],
   "source": [
    "df['isForeignTransaction']=df['isForeignTransaction'].replace('N',0)\n",
    "df['isForeignTransaction']=df['isForeignTransaction'].replace('Y',1)"
   ]
  },
  {
   "cell_type": "code",
   "execution_count": 9,
   "metadata": {},
   "outputs": [],
   "source": [
    "df['isHighRiskCountry']=df['isHighRiskCountry'].replace('N',0)\n",
    "df['isHighRiskCountry']=df['isHighRiskCountry'].replace('Y',1)"
   ]
  },
  {
   "cell_type": "code",
   "execution_count": 10,
   "metadata": {},
   "outputs": [],
   "source": [
    "df['isFradulent']=df['isFradulent'].replace('N',0)\n",
    "df['isFradulent']=df['isFradulent'].replace('Y',1)"
   ]
  },
  {
   "cell_type": "code",
   "execution_count": 11,
   "metadata": {},
   "outputs": [],
   "source": [
    "df = df.drop(columns=[\"Merchant_id\",\"Transaction date\"])"
   ]
  },
  {
   "cell_type": "code",
   "execution_count": 13,
   "metadata": {},
   "outputs": [
    {
     "name": "stdout",
     "output_type": "stream",
     "text": [
      "<class 'pandas.core.frame.DataFrame'>\n",
      "RangeIndex: 3075 entries, 0 to 3074\n",
      "Data columns (total 10 columns):\n",
      " #   Column                          Non-Null Count  Dtype  \n",
      "---  ------                          --------------  -----  \n",
      " 0   Average Amount/transaction/day  3075 non-null   float64\n",
      " 1   Transaction_amount              3075 non-null   float64\n",
      " 2   Is declined                     3075 non-null   int64  \n",
      " 3   Total Number of declines/day    3075 non-null   int64  \n",
      " 4   isForeignTransaction            3075 non-null   int64  \n",
      " 5   isHighRiskCountry               3075 non-null   int64  \n",
      " 6   Daily_chargeback_avg_amt        3075 non-null   int64  \n",
      " 7   6_month_avg_chbk_amt            3075 non-null   float64\n",
      " 8   6-month_chbk_freq               3075 non-null   int64  \n",
      " 9   isFradulent                     3075 non-null   int64  \n",
      "dtypes: float64(3), int64(7)\n",
      "memory usage: 240.4 KB\n"
     ]
    }
   ],
   "source": [
    "df.info()\n"
   ]
  },
  {
   "cell_type": "code",
   "execution_count": 16,
   "metadata": {},
   "outputs": [
    {
     "data": {
      "text/html": [
       "<div>\n",
       "<style scoped>\n",
       "    .dataframe tbody tr th:only-of-type {\n",
       "        vertical-align: middle;\n",
       "    }\n",
       "\n",
       "    .dataframe tbody tr th {\n",
       "        vertical-align: top;\n",
       "    }\n",
       "\n",
       "    .dataframe thead th {\n",
       "        text-align: right;\n",
       "    }\n",
       "</style>\n",
       "<table border=\"1\" class=\"dataframe\">\n",
       "  <thead>\n",
       "    <tr style=\"text-align: right;\">\n",
       "      <th></th>\n",
       "      <th>Average Amount/transaction/day</th>\n",
       "      <th>Transaction_amount</th>\n",
       "      <th>Is declined</th>\n",
       "      <th>Total Number of declines/day</th>\n",
       "      <th>isForeignTransaction</th>\n",
       "      <th>isHighRiskCountry</th>\n",
       "      <th>Daily_chargeback_avg_amt</th>\n",
       "      <th>6_month_avg_chbk_amt</th>\n",
       "      <th>6-month_chbk_freq</th>\n",
       "      <th>isFradulent</th>\n",
       "    </tr>\n",
       "  </thead>\n",
       "  <tbody>\n",
       "    <tr>\n",
       "      <th>Average Amount/transaction/day</th>\n",
       "      <td>1.000000</td>\n",
       "      <td>0.587111</td>\n",
       "      <td>0.081184</td>\n",
       "      <td>-0.009682</td>\n",
       "      <td>0.047316</td>\n",
       "      <td>0.014604</td>\n",
       "      <td>0.060429</td>\n",
       "      <td>0.060284</td>\n",
       "      <td>0.071849</td>\n",
       "      <td>0.023504</td>\n",
       "    </tr>\n",
       "    <tr>\n",
       "      <th>Transaction_amount</th>\n",
       "      <td>0.587111</td>\n",
       "      <td>1.000000</td>\n",
       "      <td>0.197009</td>\n",
       "      <td>0.259309</td>\n",
       "      <td>0.276764</td>\n",
       "      <td>0.325397</td>\n",
       "      <td>0.252298</td>\n",
       "      <td>0.259663</td>\n",
       "      <td>0.297623</td>\n",
       "      <td>0.528913</td>\n",
       "    </tr>\n",
       "    <tr>\n",
       "      <th>Is declined</th>\n",
       "      <td>0.081184</td>\n",
       "      <td>0.197009</td>\n",
       "      <td>1.000000</td>\n",
       "      <td>0.115961</td>\n",
       "      <td>0.079761</td>\n",
       "      <td>0.127586</td>\n",
       "      <td>0.394083</td>\n",
       "      <td>0.407917</td>\n",
       "      <td>0.499365</td>\n",
       "      <td>0.271282</td>\n",
       "    </tr>\n",
       "    <tr>\n",
       "      <th>Total Number of declines/day</th>\n",
       "      <td>-0.009682</td>\n",
       "      <td>0.259309</td>\n",
       "      <td>0.115961</td>\n",
       "      <td>1.000000</td>\n",
       "      <td>0.227904</td>\n",
       "      <td>0.292459</td>\n",
       "      <td>0.094834</td>\n",
       "      <td>0.081138</td>\n",
       "      <td>0.085028</td>\n",
       "      <td>0.531990</td>\n",
       "    </tr>\n",
       "    <tr>\n",
       "      <th>isForeignTransaction</th>\n",
       "      <td>0.047316</td>\n",
       "      <td>0.276764</td>\n",
       "      <td>0.079761</td>\n",
       "      <td>0.227904</td>\n",
       "      <td>1.000000</td>\n",
       "      <td>0.489572</td>\n",
       "      <td>0.054798</td>\n",
       "      <td>0.060566</td>\n",
       "      <td>0.077083</td>\n",
       "      <td>0.478113</td>\n",
       "    </tr>\n",
       "    <tr>\n",
       "      <th>isHighRiskCountry</th>\n",
       "      <td>0.014604</td>\n",
       "      <td>0.325397</td>\n",
       "      <td>0.127586</td>\n",
       "      <td>0.292459</td>\n",
       "      <td>0.489572</td>\n",
       "      <td>1.000000</td>\n",
       "      <td>0.074902</td>\n",
       "      <td>0.073167</td>\n",
       "      <td>0.098241</td>\n",
       "      <td>0.639792</td>\n",
       "    </tr>\n",
       "    <tr>\n",
       "      <th>Daily_chargeback_avg_amt</th>\n",
       "      <td>0.060429</td>\n",
       "      <td>0.252298</td>\n",
       "      <td>0.394083</td>\n",
       "      <td>0.094834</td>\n",
       "      <td>0.054798</td>\n",
       "      <td>0.074902</td>\n",
       "      <td>1.000000</td>\n",
       "      <td>0.953663</td>\n",
       "      <td>0.884611</td>\n",
       "      <td>0.385964</td>\n",
       "    </tr>\n",
       "    <tr>\n",
       "      <th>6_month_avg_chbk_amt</th>\n",
       "      <td>0.060284</td>\n",
       "      <td>0.259663</td>\n",
       "      <td>0.407917</td>\n",
       "      <td>0.081138</td>\n",
       "      <td>0.060566</td>\n",
       "      <td>0.073167</td>\n",
       "      <td>0.953663</td>\n",
       "      <td>1.000000</td>\n",
       "      <td>0.851339</td>\n",
       "      <td>0.375758</td>\n",
       "    </tr>\n",
       "    <tr>\n",
       "      <th>6-month_chbk_freq</th>\n",
       "      <td>0.071849</td>\n",
       "      <td>0.297623</td>\n",
       "      <td>0.499365</td>\n",
       "      <td>0.085028</td>\n",
       "      <td>0.077083</td>\n",
       "      <td>0.098241</td>\n",
       "      <td>0.884611</td>\n",
       "      <td>0.851339</td>\n",
       "      <td>1.000000</td>\n",
       "      <td>0.443824</td>\n",
       "    </tr>\n",
       "    <tr>\n",
       "      <th>isFradulent</th>\n",
       "      <td>0.023504</td>\n",
       "      <td>0.528913</td>\n",
       "      <td>0.271282</td>\n",
       "      <td>0.531990</td>\n",
       "      <td>0.478113</td>\n",
       "      <td>0.639792</td>\n",
       "      <td>0.385964</td>\n",
       "      <td>0.375758</td>\n",
       "      <td>0.443824</td>\n",
       "      <td>1.000000</td>\n",
       "    </tr>\n",
       "  </tbody>\n",
       "</table>\n",
       "</div>"
      ],
      "text/plain": [
       "                                Average Amount/transaction/day  \\\n",
       "Average Amount/transaction/day                        1.000000   \n",
       "Transaction_amount                                    0.587111   \n",
       "Is declined                                           0.081184   \n",
       "Total Number of declines/day                         -0.009682   \n",
       "isForeignTransaction                                  0.047316   \n",
       "isHighRiskCountry                                     0.014604   \n",
       "Daily_chargeback_avg_amt                              0.060429   \n",
       "6_month_avg_chbk_amt                                  0.060284   \n",
       "6-month_chbk_freq                                     0.071849   \n",
       "isFradulent                                           0.023504   \n",
       "\n",
       "                                Transaction_amount  Is declined  \\\n",
       "Average Amount/transaction/day            0.587111     0.081184   \n",
       "Transaction_amount                        1.000000     0.197009   \n",
       "Is declined                               0.197009     1.000000   \n",
       "Total Number of declines/day              0.259309     0.115961   \n",
       "isForeignTransaction                      0.276764     0.079761   \n",
       "isHighRiskCountry                         0.325397     0.127586   \n",
       "Daily_chargeback_avg_amt                  0.252298     0.394083   \n",
       "6_month_avg_chbk_amt                      0.259663     0.407917   \n",
       "6-month_chbk_freq                         0.297623     0.499365   \n",
       "isFradulent                               0.528913     0.271282   \n",
       "\n",
       "                                Total Number of declines/day  \\\n",
       "Average Amount/transaction/day                     -0.009682   \n",
       "Transaction_amount                                  0.259309   \n",
       "Is declined                                         0.115961   \n",
       "Total Number of declines/day                        1.000000   \n",
       "isForeignTransaction                                0.227904   \n",
       "isHighRiskCountry                                   0.292459   \n",
       "Daily_chargeback_avg_amt                            0.094834   \n",
       "6_month_avg_chbk_amt                                0.081138   \n",
       "6-month_chbk_freq                                   0.085028   \n",
       "isFradulent                                         0.531990   \n",
       "\n",
       "                                isForeignTransaction  isHighRiskCountry  \\\n",
       "Average Amount/transaction/day              0.047316           0.014604   \n",
       "Transaction_amount                          0.276764           0.325397   \n",
       "Is declined                                 0.079761           0.127586   \n",
       "Total Number of declines/day                0.227904           0.292459   \n",
       "isForeignTransaction                        1.000000           0.489572   \n",
       "isHighRiskCountry                           0.489572           1.000000   \n",
       "Daily_chargeback_avg_amt                    0.054798           0.074902   \n",
       "6_month_avg_chbk_amt                        0.060566           0.073167   \n",
       "6-month_chbk_freq                           0.077083           0.098241   \n",
       "isFradulent                                 0.478113           0.639792   \n",
       "\n",
       "                                Daily_chargeback_avg_amt  \\\n",
       "Average Amount/transaction/day                  0.060429   \n",
       "Transaction_amount                              0.252298   \n",
       "Is declined                                     0.394083   \n",
       "Total Number of declines/day                    0.094834   \n",
       "isForeignTransaction                            0.054798   \n",
       "isHighRiskCountry                               0.074902   \n",
       "Daily_chargeback_avg_amt                        1.000000   \n",
       "6_month_avg_chbk_amt                            0.953663   \n",
       "6-month_chbk_freq                               0.884611   \n",
       "isFradulent                                     0.385964   \n",
       "\n",
       "                                6_month_avg_chbk_amt  6-month_chbk_freq  \\\n",
       "Average Amount/transaction/day              0.060284           0.071849   \n",
       "Transaction_amount                          0.259663           0.297623   \n",
       "Is declined                                 0.407917           0.499365   \n",
       "Total Number of declines/day                0.081138           0.085028   \n",
       "isForeignTransaction                        0.060566           0.077083   \n",
       "isHighRiskCountry                           0.073167           0.098241   \n",
       "Daily_chargeback_avg_amt                    0.953663           0.884611   \n",
       "6_month_avg_chbk_amt                        1.000000           0.851339   \n",
       "6-month_chbk_freq                           0.851339           1.000000   \n",
       "isFradulent                                 0.375758           0.443824   \n",
       "\n",
       "                                isFradulent  \n",
       "Average Amount/transaction/day     0.023504  \n",
       "Transaction_amount                 0.528913  \n",
       "Is declined                        0.271282  \n",
       "Total Number of declines/day       0.531990  \n",
       "isForeignTransaction               0.478113  \n",
       "isHighRiskCountry                  0.639792  \n",
       "Daily_chargeback_avg_amt           0.385964  \n",
       "6_month_avg_chbk_amt               0.375758  \n",
       "6-month_chbk_freq                  0.443824  \n",
       "isFradulent                        1.000000  "
      ]
     },
     "execution_count": 16,
     "metadata": {},
     "output_type": "execute_result"
    }
   ],
   "source": [
    "df.corr()"
   ]
  },
  {
   "cell_type": "code",
   "execution_count": 15,
   "metadata": {},
   "outputs": [
    {
     "data": {
      "text/plain": [
       "<AxesSubplot:>"
      ]
     },
     "execution_count": 15,
     "metadata": {},
     "output_type": "execute_result"
    },
    {
     "data": {
      "image/png": "[encoded data removed]",
      "text/plain": [
       "<Figure size 432x288 with 2 Axes>"
      ]
     },
     "metadata": {
      "needs_background": "light"
     },
     "output_type": "display_data"
    }
   ],
   "source": [
    "sns.heatmap(df.corr())"
   ]
  },
  {
   "cell_type": "code",
   "execution_count": 22,
   "metadata": {},
   "outputs": [],
   "source": [
    "# Distribution of normal transactions amount"
   ]
  },
  {
   "cell_type": "code",
   "execution_count": 20,
   "metadata": {},
   "outputs": [
    {
     "data": {
      "text/plain": [
       "<AxesSubplot:ylabel='Frequency'>"
      ]
     },
     "execution_count": 20,
     "metadata": {},
     "output_type": "execute_result"
    },
    {
     "data": {
      "image/png": "[encoded data removed]",
      "text/plain": [
       "<Figure size 432x288 with 1 Axes>"
      ]
     },
     "metadata": {
      "needs_background": "light"
     },
     "output_type": "display_data"
    }
   ],
   "source": [
    "df[df['isFradulent'] == 0].Transaction_amount.plot.hist()"
   ]
  },
  {
   "cell_type": "code",
   "execution_count": 23,
   "metadata": {},
   "outputs": [
    {
     "data": {
      "text/plain": [
       "<AxesSubplot:ylabel='Frequency'>"
      ]
     },
     "execution_count": 23,
     "metadata": {},
     "output_type": "execute_result"
    },
    {
     "data": {
      "image/png": "[encoded data removed]",
      "text/plain": [
       "<Figure size 432x288 with 1 Axes>"
      ]
     },
     "metadata": {
      "needs_background": "light"
     },
     "output_type": "display_data"
    }
   ],
   "source": [
    "df[df['isFradulent'] == 1].Transaction_amount.plot.hist()"
   ]
  },
  {
   "cell_type": "code",
   "execution_count": 24,
   "metadata": {},
   "outputs": [],
   "source": [
    "df.to_csv(\"df_clean.csv\",sep=',')"
   ]
  },
  {
   "cell_type": "code",
   "execution_count": null,
   "metadata": {},
   "outputs": [],
   "source": []
  }
 ],
 "metadata": {
  "kernelspec": {
   "display_name": "Python 3",
   "language": "python",
   "name": "python3"
  },
  "language_info": {
   "codemirror_mode": {
    "name": "ipython",
    "version": 3
   },
   "file_extension": ".py",
   "mimetype": "text/x-python",
   "name": "python",
   "nbconvert_exporter": "python",
   "pygments_lexer": "ipython3",
   "version": "3.8.5"
  }
 },
 "nbformat": 4,
 "nbformat_minor": 4
}
